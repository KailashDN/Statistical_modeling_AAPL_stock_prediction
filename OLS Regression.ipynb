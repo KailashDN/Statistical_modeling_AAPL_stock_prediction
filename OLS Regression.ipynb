{
 "cells": [
  {
   "cell_type": "code",
   "execution_count": 1,
   "metadata": {},
   "outputs": [],
   "source": [
    "import numpy as np\n",
    "import scipy.stats as ss"
   ]
  },
  {
   "cell_type": "code",
   "execution_count": 2,
   "metadata": {},
   "outputs": [
    {
     "data": {
      "text/plain": [
       "[[1, 0, 0.8], [0, 1, 0], [0.8, 0, 1]]"
      ]
     },
     "execution_count": 2,
     "metadata": {},
     "output_type": "execute_result"
    }
   ],
   "source": [
    "# choose sample size\n",
    "T=750\n",
    "# Generate sample for x,y\n",
    "mu=(0,0,0)\n",
    "cov=[[1,0,0.8],\\\n",
    "   [0,1,0],\\\n",
    "   [0.8,0,1]]\n",
    "cov"
   ]
  },
  {
   "cell_type": "code",
   "execution_count": 3,
   "metadata": {},
   "outputs": [
    {
     "data": {
      "text/plain": [
       "(750, 4)"
      ]
     },
     "execution_count": 3,
     "metadata": {},
     "output_type": "execute_result"
    }
   ],
   "source": [
    "# F= Time variying regression variable\n",
    "F= np.random.multivariate_normal(mu, cov, T)\n",
    "\n",
    "X=np.column_stack([np.ones((T,1)),F])\n",
    "\n",
    "N=X.shape\n",
    "N"
   ]
  },
  {
   "cell_type": "code",
   "execution_count": 4,
   "metadata": {},
   "outputs": [
    {
     "name": "stdout",
     "output_type": "stream",
     "text": [
      "[0.56 2.53 2.05 1.78]\n"
     ]
    }
   ],
   "source": [
    "# Define co-efficient Matrix, Defrine rank to be N[1] * 1\n",
    "beta =np.array([0.56,2.53,2.05, 1.78])\n",
    "#               ,[1.5,2.00,1.05,1.38])\n",
    "print(beta)\n",
    "# beta.shape() = (N[1],1)"
   ]
  },
  {
   "cell_type": "code",
   "execution_count": 5,
   "metadata": {},
   "outputs": [
    {
     "name": "stdout",
     "output_type": "stream",
     "text": [
      "[[12.37476022  5.02463117 -2.00378506 ...  4.37074044  5.46549222\n",
      "   2.57280908]\n",
      " [10.255235    2.90510594 -4.12331028 ...  2.25121522  3.345967\n",
      "   0.45328386]\n",
      " [ 9.95584872  2.60571966 -4.42269656 ...  1.95182894  3.04658072\n",
      "   0.15389758]\n",
      " ...\n",
      " [10.6883701   3.33824105 -3.69017518 ...  2.68435033  3.7791021\n",
      "   0.88641896]\n",
      " [10.39821729  3.04808824 -3.98032799 ...  2.39419751  3.48894929\n",
      "   0.59626615]\n",
      " [11.62715314  4.27702408 -2.75139214 ...  3.62313336  4.71788514\n",
      "   1.82520199]]\n"
     ]
    }
   ],
   "source": [
    "# Generate sample of Y\n",
    "Y= X@beta+np.random.normal(0,1,(T,1))\n",
    "print(Y)"
   ]
  },
  {
   "cell_type": "markdown",
   "metadata": {},
   "source": [
    "#### OLS Regression Starts\n",
    "- linear regression of Y: Tx1 on \n",
    "- regeressor X:TxN"
   ]
  },
  {
   "cell_type": "code",
   "execution_count": 6,
   "metadata": {},
   "outputs": [
    {
     "name": "stdout",
     "output_type": "stream",
     "text": [
      "invXX:          [[ 1.33388533e-03  9.08729083e-07  2.48775623e-05  9.23864106e-06]\n",
      " [ 9.08729083e-07  4.26916635e-03 -3.63529190e-05 -3.40442136e-03]\n",
      " [ 2.48775623e-05 -3.63529190e-05  1.27626853e-03  6.36268638e-05]\n",
      " [ 9.23864106e-06 -3.40442136e-03  6.36268638e-05  4.01370468e-03]]\n",
      "beta_hat:          [[10.87701308  3.52688402 -3.50153221 ...  2.8729933   3.96774507\n",
      "   1.07506193]\n",
      " [ 0.12965323  0.12965323  0.12965323 ...  0.12965323  0.12965323\n",
      "   0.12965323]\n",
      " [ 0.01321042  0.01321042  0.01321042 ...  0.01321042  0.01321042\n",
      "   0.01321042]\n",
      " [-0.02491121 -0.02491121 -0.02491121 ... -0.02491121 -0.02491121\n",
      "  -0.02491121]]\n",
      "y_hat:          [[11.12131861  3.77118956 -3.25722667 ...  3.11729884  4.21205061\n",
      "   1.31936747]\n",
      " [10.85620452  3.50607547 -3.52234076 ...  2.85218475  3.94693652\n",
      "   1.05425338]\n",
      " [10.81242598  3.46229693 -3.5661193  ...  2.80840621  3.90315798\n",
      "   1.01047484]\n",
      " ...\n",
      " [10.96981416  3.6196851  -3.40873112 ...  2.96579438  4.06054616\n",
      "   1.16786302]\n",
      " [10.97629929  3.62617024 -3.40224599 ...  2.97227952  4.06703129\n",
      "   1.17434815]\n",
      " [10.87783665  3.52770759 -3.50070863 ...  2.87381687  3.96856865\n",
      "   1.07588551]]\n",
      "residuals:          [[ 1.25344161  1.25344161  1.25344161 ...  1.25344161  1.25344161\n",
      "   1.25344161]\n",
      " [-0.60096952 -0.60096952 -0.60096952 ... -0.60096952 -0.60096952\n",
      "  -0.60096952]\n",
      " [-0.85657727 -0.85657727 -0.85657727 ... -0.85657727 -0.85657727\n",
      "  -0.85657727]\n",
      " ...\n",
      " [-0.28144405 -0.28144405 -0.28144405 ... -0.28144405 -0.28144405\n",
      "  -0.28144405]\n",
      " [-0.578082   -0.578082   -0.578082   ... -0.578082   -0.578082\n",
      "  -0.578082  ]\n",
      " [ 0.74931649  0.74931649  0.74931649 ...  0.74931649  0.74931649\n",
      "   0.74931649]]\n",
      "sigma2:          [[0.9754765 0.9754765 0.9754765 ... 0.9754765 0.9754765 0.9754765]\n",
      " [0.9754765 0.9754765 0.9754765 ... 0.9754765 0.9754765 0.9754765]\n",
      " [0.9754765 0.9754765 0.9754765 ... 0.9754765 0.9754765 0.9754765]\n",
      " ...\n",
      " [0.9754765 0.9754765 0.9754765 ... 0.9754765 0.9754765 0.9754765]\n",
      " [0.9754765 0.9754765 0.9754765 ... 0.9754765 0.9754765 0.9754765]\n",
      " [0.9754765 0.9754765 0.9754765 ... 0.9754765 0.9754765 0.9754765]]\n",
      "sigma:          [[0.98766214 0.98766214 0.98766214 ... 0.98766214 0.98766214 0.98766214]\n",
      " [0.98766214 0.98766214 0.98766214 ... 0.98766214 0.98766214 0.98766214]\n",
      " [0.98766214 0.98766214 0.98766214 ... 0.98766214 0.98766214 0.98766214]\n",
      " ...\n",
      " [0.98766214 0.98766214 0.98766214 ... 0.98766214 0.98766214 0.98766214]\n",
      " [0.98766214 0.98766214 0.98766214 ... 0.98766214 0.98766214 0.98766214]\n",
      " [0.98766214 0.98766214 0.98766214 ... 0.98766214 0.98766214 0.98766214]]\n"
     ]
    }
   ],
   "source": [
    "# inear regression of Y: Tx1 on\n",
    "# regeressor X:TxN\n",
    "invXX = np.linalg.inv(X.transpose()@X)\n",
    "print('invXX:         ', invXX)\n",
    "\n",
    "#  Coefficients:\n",
    "beta_hat = invXX@X.transpose()@Y\n",
    "print('beta_hat:         ',beta_hat)\n",
    "\n",
    "# Predictive values of using OLS\n",
    "y_hat = X@beta_hat\n",
    "print('y_hat:         ',y_hat)\n",
    "\n",
    "# residual from OLS\n",
    "residuals= Y-y_hat\n",
    "print('residuals:         ',residuals)\n",
    "\n",
    "# Variance of residuLA\n",
    "sigma2 = (1/T)*residuals.transpose()@residuals\n",
    "print('sigma2:         ',sigma2)\n",
    "sigma = np.sqrt(sigma2) \n",
    "print('sigma:         ',sigma)\n",
    "\n"
   ]
  },
  {
   "cell_type": "code",
   "execution_count": 7,
   "metadata": {},
   "outputs": [],
   "source": [
    "# If Ridge/lasso/elastic net\n",
    "# obj_func = sigma2 + 0.5* abs(beta_hat) +  0.5* (beta_hat**2)\n",
    "\n",
    "# return obj_func\n",
    "# To solve for beta"
   ]
  },
  {
   "cell_type": "code",
   "execution_count": 10,
   "metadata": {},
   "outputs": [
    {
     "ename": "ValueError",
     "evalue": "operands could not be broadcast together with shapes (750,750) (4,4) ",
     "output_type": "error",
     "traceback": [
      "\u001b[1;31m---------------------------------------------------------------------------\u001b[0m",
      "\u001b[1;31mValueError\u001b[0m                                Traceback (most recent call last)",
      "\u001b[1;32m<ipython-input-10-5057a5da1d92>\u001b[0m in \u001b[0;36m<module>\u001b[1;34m\u001b[0m\n\u001b[0;32m      1\u001b[0m \u001b[1;31m# Varience-covarience matrix of beta hat\u001b[0m\u001b[1;33m\u001b[0m\u001b[1;33m\u001b[0m\u001b[1;33m\u001b[0m\u001b[0m\n\u001b[1;32m----> 2\u001b[1;33m \u001b[0mvarcov_beta_hat\u001b[0m\u001b[1;33m=\u001b[0m \u001b[1;33m(\u001b[0m\u001b[0msigma2\u001b[0m\u001b[1;33m)\u001b[0m\u001b[1;33m*\u001b[0m\u001b[0minvXX\u001b[0m\u001b[1;33m\u001b[0m\u001b[1;33m\u001b[0m\u001b[0m\n\u001b[0m\u001b[0;32m      3\u001b[0m \u001b[1;33m\u001b[0m\u001b[0m\n\u001b[0;32m      4\u001b[0m \u001b[0mstd_beta_hat\u001b[0m\u001b[1;33m=\u001b[0m \u001b[0mnp\u001b[0m\u001b[1;33m.\u001b[0m\u001b[0msqrt\u001b[0m\u001b[1;33m(\u001b[0m\u001b[0mT\u001b[0m\u001b[1;33m*\u001b[0m \u001b[0mnp\u001b[0m\u001b[1;33m.\u001b[0m\u001b[0mdiag\u001b[0m\u001b[1;33m(\u001b[0m\u001b[0mvarcov_beta_hat\u001b[0m\u001b[1;33m)\u001b[0m\u001b[1;33m)\u001b[0m\u001b[1;33m\u001b[0m\u001b[1;33m\u001b[0m\u001b[0m\n",
      "\u001b[1;31mValueError\u001b[0m: operands could not be broadcast together with shapes (750,750) (4,4) "
     ]
    }
   ],
   "source": [
    "# Varience-covarience matrix of beta hat\n",
    "varcov_beta_hat= (sigma2)*invXX\n",
    "\n",
    "std_beta_hat= np.sqrt(T* np.diag(varcov_beta_hat))"
   ]
  },
  {
   "cell_type": "code",
   "execution_count": null,
   "metadata": {},
   "outputs": [],
   "source": [
    "R_square = 1- (residuals.transpose()@residuals)/(T*np.sqrt)\n",
    "\n",
    "adj_R_square =1- (1-R_square) * (T-1)(T-N[1])"
   ]
  },
  {
   "cell_type": "code",
   "execution_count": null,
   "metadata": {},
   "outputs": [],
   "source": [
    "#  test each coefficient beta: beta_i\n",
    "# My Null Hypothiis : beta_i=0\n",
    "t_stats= (beta_hat.transpose()-0)std_beta_hat\n",
    "\n",
    "p_val = 1-ss.norm.cdf(t_stat)\n",
    "\n",
    "\n",
    "# F test : Test of joint significance of model\n",
    "F_stat = (beta_hat.transpose)@np.lineage.inv(varcov_beta)@beta_hat\n",
    "(residuals.transpose()@residuals/(T-N[1]))\n",
    "\n",
    "p_val_F= "
   ]
  },
  {
   "cell_type": "code",
   "execution_count": null,
   "metadata": {},
   "outputs": [],
   "source": []
  },
  {
   "cell_type": "code",
   "execution_count": null,
   "metadata": {},
   "outputs": [],
   "source": []
  },
  {
   "cell_type": "code",
   "execution_count": null,
   "metadata": {},
   "outputs": [],
   "source": []
  },
  {
   "cell_type": "code",
   "execution_count": null,
   "metadata": {},
   "outputs": [],
   "source": []
  },
  {
   "cell_type": "code",
   "execution_count": null,
   "metadata": {},
   "outputs": [],
   "source": []
  },
  {
   "cell_type": "code",
   "execution_count": null,
   "metadata": {},
   "outputs": [],
   "source": []
  },
  {
   "cell_type": "code",
   "execution_count": null,
   "metadata": {},
   "outputs": [],
   "source": []
  }
 ],
 "metadata": {
  "kernelspec": {
   "display_name": "Python 3",
   "language": "python",
   "name": "python3"
  },
  "language_info": {
   "codemirror_mode": {
    "name": "ipython",
    "version": 3
   },
   "file_extension": ".py",
   "mimetype": "text/x-python",
   "name": "python",
   "nbconvert_exporter": "python",
   "pygments_lexer": "ipython3",
   "version": "3.7.4"
  }
 },
 "nbformat": 4,
 "nbformat_minor": 2
}
