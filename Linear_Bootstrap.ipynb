{
 "cells": [
  {
   "cell_type": "code",
   "execution_count": 1,
   "metadata": {},
   "outputs": [],
   "source": [
    "import matplotlib.pyplot as plt\n",
    "import numpy as np\n",
    "import pandas as pd\n",
    "from scipy import stats\n",
    "import seaborn as sns\n",
    "import scipy.stats as ss\n",
    "\n",
    "# Make plots larger\n",
    "plt.rcParams['figure.figsize'] = (15, 9)"
   ]
  },
  {
   "cell_type": "code",
   "execution_count": 2,
   "metadata": {},
   "outputs": [
    {
     "data": {
      "text/html": [
       "<div>\n",
       "<style scoped>\n",
       "    .dataframe tbody tr th:only-of-type {\n",
       "        vertical-align: middle;\n",
       "    }\n",
       "\n",
       "    .dataframe tbody tr th {\n",
       "        vertical-align: top;\n",
       "    }\n",
       "\n",
       "    .dataframe thead th {\n",
       "        text-align: right;\n",
       "    }\n",
       "</style>\n",
       "<table border=\"1\" class=\"dataframe\">\n",
       "  <thead>\n",
       "    <tr style=\"text-align: right;\">\n",
       "      <th></th>\n",
       "      <th>Date</th>\n",
       "      <th>High</th>\n",
       "      <th>Low</th>\n",
       "      <th>Open</th>\n",
       "      <th>Close</th>\n",
       "      <th>Volume</th>\n",
       "      <th>Adj Close</th>\n",
       "      <th>open_tmr</th>\n",
       "      <th>OpenClose</th>\n",
       "      <th>HighLow</th>\n",
       "      <th>OCHL</th>\n",
       "    </tr>\n",
       "  </thead>\n",
       "  <tbody>\n",
       "    <tr>\n",
       "      <th>0</th>\n",
       "      <td>1/4/2016</td>\n",
       "      <td>105.370003</td>\n",
       "      <td>102.000000</td>\n",
       "      <td>102.610001</td>\n",
       "      <td>105.349999</td>\n",
       "      <td>67649400</td>\n",
       "      <td>98.446655</td>\n",
       "      <td>105.750000</td>\n",
       "      <td>103.980000</td>\n",
       "      <td>103.685001</td>\n",
       "      <td>103.832500</td>\n",
       "    </tr>\n",
       "    <tr>\n",
       "      <th>1</th>\n",
       "      <td>1/5/2016</td>\n",
       "      <td>105.849999</td>\n",
       "      <td>102.410004</td>\n",
       "      <td>105.750000</td>\n",
       "      <td>102.709999</td>\n",
       "      <td>55791000</td>\n",
       "      <td>95.979675</td>\n",
       "      <td>100.559998</td>\n",
       "      <td>104.230000</td>\n",
       "      <td>104.130001</td>\n",
       "      <td>104.180000</td>\n",
       "    </tr>\n",
       "    <tr>\n",
       "      <th>2</th>\n",
       "      <td>1/6/2016</td>\n",
       "      <td>102.370003</td>\n",
       "      <td>99.870003</td>\n",
       "      <td>100.559998</td>\n",
       "      <td>100.699997</td>\n",
       "      <td>68457400</td>\n",
       "      <td>94.101387</td>\n",
       "      <td>98.680000</td>\n",
       "      <td>100.629997</td>\n",
       "      <td>101.120003</td>\n",
       "      <td>100.875000</td>\n",
       "    </tr>\n",
       "    <tr>\n",
       "      <th>3</th>\n",
       "      <td>1/7/2016</td>\n",
       "      <td>100.129997</td>\n",
       "      <td>96.430000</td>\n",
       "      <td>98.680000</td>\n",
       "      <td>96.449997</td>\n",
       "      <td>81094400</td>\n",
       "      <td>90.129868</td>\n",
       "      <td>98.550003</td>\n",
       "      <td>97.564999</td>\n",
       "      <td>98.279999</td>\n",
       "      <td>97.922499</td>\n",
       "    </tr>\n",
       "    <tr>\n",
       "      <th>4</th>\n",
       "      <td>1/8/2016</td>\n",
       "      <td>99.110001</td>\n",
       "      <td>96.760002</td>\n",
       "      <td>98.550003</td>\n",
       "      <td>96.959999</td>\n",
       "      <td>70798000</td>\n",
       "      <td>90.606438</td>\n",
       "      <td>98.970001</td>\n",
       "      <td>97.755001</td>\n",
       "      <td>97.935001</td>\n",
       "      <td>97.845001</td>\n",
       "    </tr>\n",
       "  </tbody>\n",
       "</table>\n",
       "</div>"
      ],
      "text/plain": [
       "       Date        High         Low        Open       Close    Volume  \\\n",
       "0  1/4/2016  105.370003  102.000000  102.610001  105.349999  67649400   \n",
       "1  1/5/2016  105.849999  102.410004  105.750000  102.709999  55791000   \n",
       "2  1/6/2016  102.370003   99.870003  100.559998  100.699997  68457400   \n",
       "3  1/7/2016  100.129997   96.430000   98.680000   96.449997  81094400   \n",
       "4  1/8/2016   99.110001   96.760002   98.550003   96.959999  70798000   \n",
       "\n",
       "   Adj Close    open_tmr   OpenClose     HighLow        OCHL  \n",
       "0  98.446655  105.750000  103.980000  103.685001  103.832500  \n",
       "1  95.979675  100.559998  104.230000  104.130001  104.180000  \n",
       "2  94.101387   98.680000  100.629997  101.120003  100.875000  \n",
       "3  90.129868   98.550003   97.564999   98.279999   97.922499  \n",
       "4  90.606438   98.970001   97.755001   97.935001   97.845001  "
      ]
     },
     "execution_count": 2,
     "metadata": {},
     "output_type": "execute_result"
    }
   ],
   "source": [
    "AAPL = pd.read_csv('AAPL_New.csv')\n",
    "AAPL.set_index('Date')\n",
    "AAPL['open_tmr'] = AAPL['Open'].shift(-1)\n",
    "AAPL['OpenClose']= (AAPL['Open']+ AAPL['Close'])/2\n",
    "AAPL['HighLow'] = (AAPL['High']+ AAPL['Low'])/2\n",
    "AAPL['OCHL'] = (AAPL['Open']+ AAPL['Close']+AAPL['High']+ AAPL['Low'])/4\n",
    "AAPL.head()"
   ]
  },
  {
   "cell_type": "code",
   "execution_count": 3,
   "metadata": {},
   "outputs": [
    {
     "name": "stderr",
     "output_type": "stream",
     "text": [
      "C:\\Users\\kaila\\Anaconda3\\envs\\tensorflow_gpuenv\\lib\\site-packages\\ipykernel_launcher.py:2: FutureWarning: Method .as_matrix will be removed in a future version. Use .values instead.\n",
      "  \n",
      "C:\\Users\\kaila\\Anaconda3\\envs\\tensorflow_gpuenv\\lib\\site-packages\\ipykernel_launcher.py:3: FutureWarning: Method .as_matrix will be removed in a future version. Use .values instead.\n",
      "  This is separate from the ipykernel package so we can avoid doing imports until\n"
     ]
    },
    {
     "data": {
      "text/plain": [
       "(987, 1)"
      ]
     },
     "execution_count": 3,
     "metadata": {},
     "output_type": "execute_result"
    }
   ],
   "source": [
    "#T = 670\n",
    "X = AAPL[['OpenClose']].as_matrix()[1:]\n",
    "Y = AAPL[['open_tmr']].as_matrix()[:-1]\n",
    "df = AAPL[['Close']]\n",
    "df.reset_index(level=0, inplace=True)\n",
    "df.columns=['ds','y']\n",
    "#X = np.column_stack([np.ones((T,1)),X])\n",
    "#print(X.transpose().shape)\n",
    "#movAverage1= (movAvg) \n",
    "X.shape"
   ]
  },
  {
   "cell_type": "code",
   "execution_count": 4,
   "metadata": {},
   "outputs": [],
   "source": [
    "def Linear(X, Y):\n",
    "    \n",
    "    T = X.shape[0]\n",
    "    #print(T)\n",
    "    #mu = (AAPL['Open '].mean(),AAPL['Open '].mean(),AAPL['Open '].mean()) \n",
    "    #cov = [[1,0.75,-0.35],[0.75,1,0.9],[-0.35,0.9,1]]\n",
    "    #F = np.random.multivariate_normal(mu,cov,T)\n",
    "    #Sample for Y,X\n",
    "    X = np.column_stack([np.ones((T,1)),X])\n",
    "    #T = X.shape[0]\n",
    "    N = X.shape\n",
    "    #print(N)\n",
    "    #beta = np.array([0.56,2.53,2.05,1.78])\n",
    "    #beta.shape=(N[1],1)\n",
    "    #Y =X@beta+np.random.normal(0,1,(T,1))\n",
    "    #Y=AAPL['Open '].values\n",
    "    #print(T)\n",
    "    invXX = np.linalg.inv(X.transpose()@X)\n",
    "    #print(invXX.shape)\n",
    "    #print(X.shape)\n",
    "    beta_hat = invXX@X.transpose()@Y\n",
    "    #print(beta_hat)\n",
    "    y_hat = X@beta_hat\n",
    "#     residuals = Y-y_hat\n",
    "#     sigma2 = (1/T)*residuals.transpose()@residuals\n",
    "\n",
    "#     sigma = np.sqrt(sigma2)\n",
    "\n",
    "#     #variance - covariance of beta_hat\n",
    "#     varcov_beta_hat = (sigma2)*invXX\n",
    "#     std_beta_hat = np.sqrt(T*np.diag(varcov_beta_hat))\n",
    "\n",
    "#     R_square = 1-(residuals.transpose()@residuals)/(T*np.var(Y))\n",
    "\n",
    "#     adj_R_square = 1-(1-R_square)*(T-1)/(T - N[1])\n",
    "\n",
    "#     #Testing Coefficents:beta_i\n",
    "#     #Null Hypotesis\n",
    "\n",
    "#     t_stat = (beta_hat.transpose()-0)/std_beta_hat\n",
    "#     p_val = 1-ss.norm.cdf(t_stat)\n",
    "\n",
    "#     #Test of joint significance\n",
    "#     F_stat= (beta_hat.transpose()@np.linalg.inv(varcov_beta_hat)@beta_hat/N[1])/(residuals.transpose()@residuals/(T-N[1]))\n",
    "#     p_val_F= 1 - ss.f.cdf(F_stat,N[1]-1, T-N[1])\n",
    "    \n",
    "    return beta_hat,y_hat\n"
   ]
  },
  {
   "cell_type": "code",
   "execution_count": 5,
   "metadata": {},
   "outputs": [],
   "source": [
    "y_hat = Linear(X, Y)[1]"
   ]
  },
  {
   "cell_type": "code",
   "execution_count": 6,
   "metadata": {},
   "outputs": [
    {
     "data": {
      "text/plain": [
       "[<matplotlib.lines.Line2D at 0x215c36d9348>]"
      ]
     },
     "execution_count": 6,
     "metadata": {},
     "output_type": "execute_result"
    },
    {
     "data": {
      "image/png": "[encoded data removed]",
      "text/plain": [
       "<Figure size 1152x648 with 1 Axes>"
      ]
     },
     "metadata": {
      "needs_background": "light"
     },
     "output_type": "display_data"
    }
   ],
   "source": [
    "plt.figure(figsize = (16,9))\n",
    "plt.plot(y_hat)\n",
    "plt.plot(Y)"
   ]
  },
  {
   "cell_type": "code",
   "execution_count": 7,
   "metadata": {},
   "outputs": [],
   "source": [
    "def linear_bootstrap():\n",
    "    T = 250\n",
    "    #print(T)\n",
    "    N = X.shape[0]\n",
    "    #print(N)\n",
    "    \n",
    "    yhat_linear = np.zeros(N-(T+1))\n",
    "    window = 200\n",
    "    num_boost = 300 # increase\n",
    "    \n",
    "    for t in range(T+1,N):\n",
    "        X_train = df.y.ewm(span=5, adjust=False).mean()[t-window:t-1]\n",
    "        #X_train = np.column_stack([np.ones((len(X_train),1)),X_train])\n",
    "        Y_train = AAPL[['open_tmr']][t-window:t-1].values\n",
    "        #print(X_train.shape)\n",
    "        #print(Y_train.shape)\n",
    "        X_pred = df.y.ewm(span=5, adjust=False).mean()[t-1:t]\n",
    "        X_pred = np.column_stack([np.ones((len(X_pred),1)),X_pred])\n",
    "        \n",
    "        yhat_train = Linear(X_train , Y_train)[1]\n",
    "        res_train = Y_train - yhat_train\n",
    "       \n",
    "        y_pred_all = np.zeros(num_boost)\n",
    "       \n",
    "        for i in range (0,num_boost):\n",
    "            #err = np.random.choice(res_train,(window-1, ),replace = True)\n",
    "            err = res_train\n",
    "            y_bstr = yhat_train + err\n",
    "            beta_bstr = Linear(X_train,y_bstr)[0]\n",
    "            #print(X_pred.shape)\n",
    "            #print(beta_bstr.shape)\n",
    " \n",
    "            y_pred_bstr = X_pred@beta_bstr\n",
    "            y_pred_all[i] = y_pred_bstr\n",
    "           \n",
    "        y_pred_linear = y_pred_all.mean()\n",
    "       \n",
    "        yhat_linear[t-(T+1)] = y_pred_linear\n",
    "   \n",
    "   \n",
    "    rmse_linear = np.sqrt(np.mean((Y - yhat_linear)**2))\n",
    "   \n",
    "    return yhat_linear,rmse_linear"
   ]
  },
  {
   "cell_type": "code",
   "execution_count": 8,
   "metadata": {},
   "outputs": [
    {
     "data": {
      "text/plain": [
       "56.25059752896193"
      ]
     },
     "execution_count": 8,
     "metadata": {},
     "output_type": "execute_result"
    }
   ],
   "source": [
    "rmse_linear = linear_bootstrap()[1]\n",
    "rmse_linear"
   ]
  },
  {
   "cell_type": "code",
   "execution_count": null,
   "metadata": {},
   "outputs": [],
   "source": []
  }
 ],
 "metadata": {
  "kernelspec": {
   "display_name": "Python 3",
   "language": "python",
   "name": "python3"
  },
  "language_info": {
   "codemirror_mode": {
    "name": "ipython",
    "version": 3
   },
   "file_extension": ".py",
   "mimetype": "text/x-python",
   "name": "python",
   "nbconvert_exporter": "python",
   "pygments_lexer": "ipython3",
   "version": "3.7.5"
  }
 },
 "nbformat": 4,
 "nbformat_minor": 2
}
