{
 "cells": [
  {
   "cell_type": "markdown",
   "metadata": {},
   "source": [
    "## Support Vector Machine Model"
   ]
  },
  {
   "cell_type": "code",
   "execution_count": 1,
   "metadata": {},
   "outputs": [],
   "source": [
    "import matplotlib.pyplot as plt\n",
    "import numpy as np\n",
    "import pandas as pd\n",
    "from scipy import stats\n",
    "import seaborn as sns\n",
    "import scipy.stats as ss\n",
    "\n",
    "# Make plots larger\n",
    "plt.rcParams['figure.figsize'] = (15, 9)"
   ]
  },
  {
   "cell_type": "code",
   "execution_count": 2,
   "metadata": {},
   "outputs": [
    {
     "data": {
      "text/html": [
       "<div>\n",
       "<style scoped>\n",
       "    .dataframe tbody tr th:only-of-type {\n",
       "        vertical-align: middle;\n",
       "    }\n",
       "\n",
       "    .dataframe tbody tr th {\n",
       "        vertical-align: top;\n",
       "    }\n",
       "\n",
       "    .dataframe thead th {\n",
       "        text-align: right;\n",
       "    }\n",
       "</style>\n",
       "<table border=\"1\" class=\"dataframe\">\n",
       "  <thead>\n",
       "    <tr style=\"text-align: right;\">\n",
       "      <th></th>\n",
       "      <th>Date</th>\n",
       "      <th>High</th>\n",
       "      <th>Low</th>\n",
       "      <th>Open</th>\n",
       "      <th>Close</th>\n",
       "      <th>Volume</th>\n",
       "      <th>Adj Close</th>\n",
       "      <th>OpenTmr</th>\n",
       "      <th>OpenClose</th>\n",
       "      <th>HighLow</th>\n",
       "      <th>OCHL</th>\n",
       "    </tr>\n",
       "  </thead>\n",
       "  <tbody>\n",
       "    <tr>\n",
       "      <th>983</th>\n",
       "      <td>11/27/2019</td>\n",
       "      <td>267.980011</td>\n",
       "      <td>265.309998</td>\n",
       "      <td>265.579987</td>\n",
       "      <td>267.839996</td>\n",
       "      <td>16308900</td>\n",
       "      <td>267.839996</td>\n",
       "      <td>266.600006</td>\n",
       "      <td>266.709991</td>\n",
       "      <td>266.645004</td>\n",
       "      <td>266.677498</td>\n",
       "    </tr>\n",
       "    <tr>\n",
       "      <th>984</th>\n",
       "      <td>11/29/2019</td>\n",
       "      <td>268.000000</td>\n",
       "      <td>265.899994</td>\n",
       "      <td>266.600006</td>\n",
       "      <td>267.250000</td>\n",
       "      <td>11654400</td>\n",
       "      <td>267.250000</td>\n",
       "      <td>267.269989</td>\n",
       "      <td>266.925003</td>\n",
       "      <td>266.949997</td>\n",
       "      <td>266.937500</td>\n",
       "    </tr>\n",
       "    <tr>\n",
       "      <th>985</th>\n",
       "      <td>12/2/2019</td>\n",
       "      <td>268.250000</td>\n",
       "      <td>263.450012</td>\n",
       "      <td>267.269989</td>\n",
       "      <td>264.160004</td>\n",
       "      <td>23621800</td>\n",
       "      <td>264.160004</td>\n",
       "      <td>258.309998</td>\n",
       "      <td>265.714996</td>\n",
       "      <td>265.850006</td>\n",
       "      <td>265.782501</td>\n",
       "    </tr>\n",
       "    <tr>\n",
       "      <th>986</th>\n",
       "      <td>12/3/2019</td>\n",
       "      <td>259.529999</td>\n",
       "      <td>256.290008</td>\n",
       "      <td>258.309998</td>\n",
       "      <td>259.450012</td>\n",
       "      <td>28607600</td>\n",
       "      <td>259.450012</td>\n",
       "      <td>261.070007</td>\n",
       "      <td>258.880005</td>\n",
       "      <td>257.910004</td>\n",
       "      <td>258.395004</td>\n",
       "    </tr>\n",
       "    <tr>\n",
       "      <th>987</th>\n",
       "      <td>12/4/2019</td>\n",
       "      <td>263.309998</td>\n",
       "      <td>260.679993</td>\n",
       "      <td>261.070007</td>\n",
       "      <td>261.739990</td>\n",
       "      <td>15874176</td>\n",
       "      <td>261.739990</td>\n",
       "      <td>NaN</td>\n",
       "      <td>261.404999</td>\n",
       "      <td>261.994995</td>\n",
       "      <td>261.699997</td>\n",
       "    </tr>\n",
       "  </tbody>\n",
       "</table>\n",
       "</div>"
      ],
      "text/plain": [
       "           Date        High         Low        Open       Close    Volume  \\\n",
       "983  11/27/2019  267.980011  265.309998  265.579987  267.839996  16308900   \n",
       "984  11/29/2019  268.000000  265.899994  266.600006  267.250000  11654400   \n",
       "985   12/2/2019  268.250000  263.450012  267.269989  264.160004  23621800   \n",
       "986   12/3/2019  259.529999  256.290008  258.309998  259.450012  28607600   \n",
       "987   12/4/2019  263.309998  260.679993  261.070007  261.739990  15874176   \n",
       "\n",
       "      Adj Close     OpenTmr   OpenClose     HighLow        OCHL  \n",
       "983  267.839996  266.600006  266.709991  266.645004  266.677498  \n",
       "984  267.250000  267.269989  266.925003  266.949997  266.937500  \n",
       "985  264.160004  258.309998  265.714996  265.850006  265.782501  \n",
       "986  259.450012  261.070007  258.880005  257.910004  258.395004  \n",
       "987  261.739990         NaN  261.404999  261.994995  261.699997  "
      ]
     },
     "execution_count": 2,
     "metadata": {},
     "output_type": "execute_result"
    }
   ],
   "source": [
    "AAPL = pd.read_csv('AAPL_New.csv')\n",
    "AAPL.set_index('Date')\n",
    "AAPL['OpenTmr'] = AAPL['Open'].shift(-1)\n",
    "AAPL['OpenClose'] = (AAPL['Open']+ AAPL['Close'])/2\n",
    "AAPL['HighLow'] = (AAPL['High']+ AAPL['Low'])/2\n",
    "AAPL['OCHL'] = (AAPL['Open']+ AAPL['Close']+AAPL['High']+ AAPL['Low'])/4\n",
    "# AAPL = AAPL.fillna(method='ffill')\n",
    "AAPL.tail()\n",
    "# AAPL = AAPL.dropna(0)"
   ]
  },
  {
   "cell_type": "code",
   "execution_count": 3,
   "metadata": {},
   "outputs": [],
   "source": [
    "N = AAPL.shape[0] # total num days\n",
    "num_boot = 1# total num bootstrap\n",
    "T= 250 # start day\n",
    "window = 200 # training period window\n",
    "Y =AAPL['OpenTmr'][-(N-(T+1)):].values"
   ]
  },
  {
   "cell_type": "code",
   "execution_count": 4,
   "metadata": {},
   "outputs": [],
   "source": [
    "from sklearn.svm import SVR  \n",
    "\n",
    "\n",
    "def svm_train(X_train, Y_train, X_pred):  \n",
    "   \n",
    "    svr_model = SVR(kernel='rbf', gamma=0.0005)\n",
    "    result = svr_model.fit(X_train, Y_train)\n",
    " \n",
    "    y_hat = result.predict(X_train)  \n",
    "    y_pred = result.predict(X_pred)\n",
    "    rmse_svm=np.sqrt(np.mean((Y_train-y_hat)**2))\n",
    "    return y_hat, y_pred, rmse_svm"
   ]
  },
  {
   "cell_type": "code",
   "execution_count": 5,
   "metadata": {},
   "outputs": [],
   "source": [
    "def svm_bstr():\n",
    "    num_boot = 1\n",
    "    yhat_svm = np.zeros(N-(T+1))\n",
    "    for t in range(T+1, N):    \n",
    "        X_train = AAPL[['Close']][t-window:t-1] \n",
    "        X_train = np.column_stack([np.ones((len(X_train),1)),X_train])\n",
    "        X_pred = AAPL[['Close']][t-1:t]\n",
    "        X_pred = np.column_stack([np.ones((len(X_pred),1)),X_pred])\n",
    "        \n",
    "        Y_train = AAPL['OpenTmr'][t-window:t-1].values    \n",
    "        yhat_train = svm_train(X_train, Y_train, X_pred)[0] \n",
    "        res_train =  Y_train - yhat_train        \n",
    "        y_pred_all = np.zeros(num_boot)\n",
    "        # bootstrap method: switching residuals\n",
    "        for i in range(0, num_boot):\n",
    "            err = np.random.choice(res_train, (window-1, ), replace=True)\n",
    "            y_bstr = yhat_train + err                        \n",
    "            y_pred_bstr = svm_train(X_train, y_bstr, X_pred)[1]\n",
    "            y_pred_all[i]=y_pred_bstr\n",
    "          \n",
    "        y_pred_svm = y_pred_all.mean() # mean of all bootstrap predictions\n",
    "        yhat_svm[t-(T+1)]=y_pred_svm # do this for each time step        \n",
    "    rmse_svm=np.sqrt(np.mean((Y[:-1]-yhat_svm[:-1])**2))\n",
    "    return yhat_svm, rmse_svm"
   ]
  },
  {
   "cell_type": "code",
   "execution_count": 7,
   "metadata": {},
   "outputs": [],
   "source": [
    "rmse = svm_bstr()[1]"
   ]
  },
  {
   "cell_type": "code",
   "execution_count": null,
   "metadata": {},
   "outputs": [],
   "source": [
    "rmse"
   ]
  },
  {
   "cell_type": "code",
   "execution_count": null,
   "metadata": {},
   "outputs": [],
   "source": []
  }
 ],
 "metadata": {
  "kernelspec": {
   "display_name": "Python 3",
   "language": "python",
   "name": "python3"
  },
  "language_info": {
   "codemirror_mode": {
    "name": "ipython",
    "version": 3
   },
   "file_extension": ".py",
   "mimetype": "text/x-python",
   "name": "python",
   "nbconvert_exporter": "python",
   "pygments_lexer": "ipython3",
   "version": "3.7.5"
  }
 },
 "nbformat": 4,
 "nbformat_minor": 2
}
