{
 "cells": [
  {
   "cell_type": "markdown",
   "metadata": {},
   "source": [
    "## Moving Average Convergence/Divergence Model (MACD)"
   ]
  },
  {
   "cell_type": "code",
   "execution_count": 1,
   "metadata": {},
   "outputs": [],
   "source": [
    "import matplotlib.pyplot as plt\n",
    "import numpy as np\n",
    "import pandas as pd\n",
    "from scipy import stats\n",
    "import seaborn as sns\n",
    "import scipy.stats as ss\n",
    "\n",
    "# Make plots larger\n",
    "plt.rcParams['figure.figsize'] = (15, 9)"
   ]
  },
  {
   "cell_type": "code",
   "execution_count": 2,
   "metadata": {},
   "outputs": [
    {
     "data": {
      "text/html": [
       "<div>\n",
       "<style scoped>\n",
       "    .dataframe tbody tr th:only-of-type {\n",
       "        vertical-align: middle;\n",
       "    }\n",
       "\n",
       "    .dataframe tbody tr th {\n",
       "        vertical-align: top;\n",
       "    }\n",
       "\n",
       "    .dataframe thead th {\n",
       "        text-align: right;\n",
       "    }\n",
       "</style>\n",
       "<table border=\"1\" class=\"dataframe\">\n",
       "  <thead>\n",
       "    <tr style=\"text-align: right;\">\n",
       "      <th></th>\n",
       "      <th>Date</th>\n",
       "      <th>Open</th>\n",
       "      <th>Close</th>\n",
       "      <th>High</th>\n",
       "      <th>Low</th>\n",
       "      <th>Volume</th>\n",
       "      <th>OpenTmr</th>\n",
       "      <th>OpenClose</th>\n",
       "      <th>HighLow</th>\n",
       "      <th>OCHL</th>\n",
       "    </tr>\n",
       "  </thead>\n",
       "  <tbody>\n",
       "    <tr>\n",
       "      <th>0</th>\n",
       "      <td>4-Jan-16</td>\n",
       "      <td>102.610001</td>\n",
       "      <td>105.349998</td>\n",
       "      <td>105.370003</td>\n",
       "      <td>102.000000</td>\n",
       "      <td>67649400</td>\n",
       "      <td>105.750000</td>\n",
       "      <td>103.979999</td>\n",
       "      <td>103.685001</td>\n",
       "      <td>103.832500</td>\n",
       "    </tr>\n",
       "    <tr>\n",
       "      <th>1</th>\n",
       "      <td>5-Jan-16</td>\n",
       "      <td>105.750000</td>\n",
       "      <td>102.709999</td>\n",
       "      <td>105.849998</td>\n",
       "      <td>102.410004</td>\n",
       "      <td>55791000</td>\n",
       "      <td>100.559998</td>\n",
       "      <td>104.229999</td>\n",
       "      <td>104.130001</td>\n",
       "      <td>104.180000</td>\n",
       "    </tr>\n",
       "    <tr>\n",
       "      <th>2</th>\n",
       "      <td>6-Jan-16</td>\n",
       "      <td>100.559998</td>\n",
       "      <td>100.699997</td>\n",
       "      <td>102.370003</td>\n",
       "      <td>99.870003</td>\n",
       "      <td>68457400</td>\n",
       "      <td>98.680000</td>\n",
       "      <td>100.629998</td>\n",
       "      <td>101.120003</td>\n",
       "      <td>100.875000</td>\n",
       "    </tr>\n",
       "    <tr>\n",
       "      <th>3</th>\n",
       "      <td>7-Jan-16</td>\n",
       "      <td>98.680000</td>\n",
       "      <td>96.449997</td>\n",
       "      <td>100.129997</td>\n",
       "      <td>96.430000</td>\n",
       "      <td>81094400</td>\n",
       "      <td>98.550003</td>\n",
       "      <td>97.564999</td>\n",
       "      <td>98.279999</td>\n",
       "      <td>97.922499</td>\n",
       "    </tr>\n",
       "    <tr>\n",
       "      <th>4</th>\n",
       "      <td>8-Jan-16</td>\n",
       "      <td>98.550003</td>\n",
       "      <td>96.959999</td>\n",
       "      <td>99.110001</td>\n",
       "      <td>96.760002</td>\n",
       "      <td>70798000</td>\n",
       "      <td>98.970001</td>\n",
       "      <td>97.755001</td>\n",
       "      <td>97.935001</td>\n",
       "      <td>97.845001</td>\n",
       "    </tr>\n",
       "  </tbody>\n",
       "</table>\n",
       "</div>"
      ],
      "text/plain": [
       "       Date        Open       Close        High         Low    Volume  \\\n",
       "0  4-Jan-16  102.610001  105.349998  105.370003  102.000000  67649400   \n",
       "1  5-Jan-16  105.750000  102.709999  105.849998  102.410004  55791000   \n",
       "2  6-Jan-16  100.559998  100.699997  102.370003   99.870003  68457400   \n",
       "3  7-Jan-16   98.680000   96.449997  100.129997   96.430000  81094400   \n",
       "4  8-Jan-16   98.550003   96.959999   99.110001   96.760002  70798000   \n",
       "\n",
       "      OpenTmr   OpenClose     HighLow        OCHL  \n",
       "0  105.750000  103.979999  103.685001  103.832500  \n",
       "1  100.559998  104.229999  104.130001  104.180000  \n",
       "2   98.680000  100.629998  101.120003  100.875000  \n",
       "3   98.550003   97.564999   98.279999   97.922499  \n",
       "4   98.970001   97.755001   97.935001   97.845001  "
      ]
     },
     "execution_count": 2,
     "metadata": {},
     "output_type": "execute_result"
    }
   ],
   "source": [
    "AAPL = pd.read_csv('AAPL.csv')\n",
    "AAPL.set_index('Date')\n",
    "AAPL['OpenTmr'] = AAPL['Open'].shift(-1)\n",
    "AAPL['OpenClose'] = (AAPL['Open']+ AAPL['Close'])/2\n",
    "AAPL['HighLow'] = (AAPL['High']+ AAPL['Low'])/2\n",
    "AAPL['OCHL'] = (AAPL['Open']+ AAPL['Close']+AAPL['High']+ AAPL['Low'])/4\n",
    "\n",
    "AAPL.head()"
   ]
  },
  {
   "cell_type": "code",
   "execution_count": 3,
   "metadata": {},
   "outputs": [],
   "source": [
    "N = AAPL.shape[0] # total num days\n",
    "num_boot = 300# total num bootstrap\n",
    "T= 250 # start day\n",
    "window = 200 # training period window"
   ]
  },
  {
   "cell_type": "code",
   "execution_count": 4,
   "metadata": {},
   "outputs": [],
   "source": [
    "df = AAPL[['Close']]\n",
    "df.reset_index(level=0, inplace=True)\n",
    "df.columns=['ds','y']\n",
    "\n",
    "X1 = df.y.ewm(span=12, adjust=False).mean()\n",
    "X2 = df.y.ewm(span=26, adjust=False).mean()\n",
    "X = X1 - X2\n",
    "Y =AAPL['OpenTmr'][-(N-(T+1)):].values\n",
    "#X = np.column_stack([np.ones((T,1)),X])\n",
    "#print(X)\n",
    "#print(Y.shape)\n",
    "#movAverage1= (movAvg) "
   ]
  },
  {
   "cell_type": "code",
   "execution_count": 5,
   "metadata": {},
   "outputs": [],
   "source": [
    "def MACD(X, Y):\n",
    "    \n",
    "    T = X.shape[0]\n",
    "    #print(T)\n",
    "    #mu = (AAPL['Open '].mean(),AAPL['Open '].mean(),AAPL['Open '].mean()) \n",
    "    #cov = [[1,0.75,-0.35],[0.75,1,0.9],[-0.35,0.9,1]]\n",
    "    #F = np.random.multivariate_normal(mu,cov,T)\n",
    "    #Sample for Y,X\n",
    "    X = np.column_stack([np.ones((T,1)),X])\n",
    "    #T = X.shape[0]\n",
    "    N = X.shape\n",
    "    #beta = np.array([0.56,2.53,2.05,1.78])\n",
    "    #beta.shape=(N[1],1)\n",
    "    #Y =X@beta+np.random.normal(0,1,(T,1))\n",
    "    #Y=AAPL['Open '].values\n",
    "    #print(T)\n",
    "    invXX = np.linalg.inv(X.transpose()@X)\n",
    "    beta_hat = invXX@X.transpose()@Y\n",
    "    y_hat = X@beta_hat\n",
    "    \n",
    "    residuals = Y-y_hat\n",
    "    sigma2 = (1/T)*residuals.transpose()@residuals\n",
    "\n",
    "    sigma = np.sqrt(sigma2)\n",
    "\n",
    "    #variance - covariance of beta_hat\n",
    "    varcov_beta_hat = (sigma2)*invXX\n",
    "    std_beta_hat = np.sqrt(T*np.diag(varcov_beta_hat))\n",
    "\n",
    "    R_square = 1-(residuals.transpose()@residuals)/(T*np.var(Y))\n",
    "\n",
    "    adj_R_square = 1-(1-R_square)*(T-1)/(T - N[1])\n",
    "\n",
    "    #Testing Coefficents:beta_i\n",
    "    #Null Hypotesis\n",
    "\n",
    "    t_stat = (beta_hat.transpose()-0)/std_beta_hat\n",
    "    p_val = 1-ss.norm.cdf(t_stat)\n",
    "    #print(p_val)\n",
    "    #Test of joint significance\n",
    "    F_stat= (beta_hat.transpose()@np.linalg.inv(varcov_beta_hat)@beta_hat/N[1])/(residuals.transpose()@residuals/(T-N[1]))\n",
    "    p_val_F= 1 - ss.f.cdf(F_stat,N[1]-1, T-N[1])\n",
    "    \n",
    "    return beta_hat,y_hat"
   ]
  },
  {
   "cell_type": "code",
   "execution_count": 6,
   "metadata": {},
   "outputs": [],
   "source": [
    "def bootstrap():\n",
    "    T = 250\n",
    "    #print(T)\n",
    "    N = X.shape[0]\n",
    "    #print(N)\n",
    "    \n",
    "    yhat_macd = np.zeros(N-(T+1))\n",
    "    window = 200\n",
    "    num_boost = 300 # increase\n",
    "    \n",
    "    for t in range(T+1,N):\n",
    "        X_train = df.y.ewm(span=5, adjust=False).mean()[t-window:t-1]\n",
    "        #X_train = np.column_stack([np.ones((len(X_train),1)),X_train])\n",
    "        Y_train = AAPL[['OpenTmr']][t-window:t-1].values\n",
    "        #print(X_train.shape)\n",
    "        #print(Y_train.shape)\n",
    "        X_pred = df.y.ewm(span=5, adjust=False).mean()[t-1:t]\n",
    "        X_pred = np.column_stack([np.ones((len(X_pred),1)),X_pred])\n",
    "        \n",
    "        yhat_train = MACD(X_train , Y_train)[1]\n",
    "        res_train = Y_train - yhat_train\n",
    "       \n",
    "        y_pred_all = np.zeros(num_boost)\n",
    "       \n",
    "        for i in range (0,num_boost):\n",
    "            #err = np.random.choice(res_train,(window-1, ),replace = True)\n",
    "            err = res_train\n",
    "            y_bstr = yhat_train + err\n",
    "            beta_bstr = MACD(X_train,y_bstr)[0]\n",
    "            #print(X_pred.shape)\n",
    "            #print(beta_bstr.shape)\n",
    " \n",
    "            y_pred_bstr = X_pred@beta_bstr\n",
    "            y_pred_all[i] = y_pred_bstr\n",
    "           \n",
    "        y_pred_macd = y_pred_all.mean()\n",
    "       \n",
    "        yhat_macd[t-(T+1)] = y_pred_macd\n",
    "   \n",
    "   \n",
    "    rmse_macd = np.sqrt(np.mean((Y[27:-1] - yhat_macd[27:-1])**2))\n",
    "   \n",
    "    return yhat_macd,rmse_macd"
   ]
  },
  {
   "cell_type": "code",
   "execution_count": 7,
   "metadata": {},
   "outputs": [],
   "source": [
    "yhat_macd,rmse_macd = bootstrap()"
   ]
  },
  {
   "cell_type": "code",
   "execution_count": 8,
   "metadata": {},
   "outputs": [
    {
     "data": {
      "text/plain": [
       "4.311557789157198"
      ]
     },
     "execution_count": 8,
     "metadata": {},
     "output_type": "execute_result"
    }
   ],
   "source": [
    "rmse_macd"
   ]
  },
  {
   "cell_type": "code",
   "execution_count": 9,
   "metadata": {},
   "outputs": [
    {
     "data": {
      "text/plain": [
       "(627,)"
      ]
     },
     "execution_count": 9,
     "metadata": {},
     "output_type": "execute_result"
    }
   ],
   "source": [
    "yhat_macd.shape"
   ]
  },
  {
   "cell_type": "code",
   "execution_count": 11,
   "metadata": {},
   "outputs": [],
   "source": [
    "MACD_predict = pd.DataFrame()\n",
    "MACD_predict['Date'] = AAPL.Date.iloc[-200:]\n",
    "MACD_predict['Predict_MACD'] = yhat_macd[-200:]"
   ]
  },
  {
   "cell_type": "code",
   "execution_count": 12,
   "metadata": {},
   "outputs": [
    {
     "data": {
      "text/html": [
       "<div>\n",
       "<style scoped>\n",
       "    .dataframe tbody tr th:only-of-type {\n",
       "        vertical-align: middle;\n",
       "    }\n",
       "\n",
       "    .dataframe tbody tr th {\n",
       "        vertical-align: top;\n",
       "    }\n",
       "\n",
       "    .dataframe thead th {\n",
       "        text-align: right;\n",
       "    }\n",
       "</style>\n",
       "<table border=\"1\" class=\"dataframe\">\n",
       "  <thead>\n",
       "    <tr style=\"text-align: right;\">\n",
       "      <th></th>\n",
       "      <th>Date</th>\n",
       "      <th>Predict_MACD</th>\n",
       "    </tr>\n",
       "  </thead>\n",
       "  <tbody>\n",
       "    <tr>\n",
       "      <th>678</th>\n",
       "      <td>12-Sep-18</td>\n",
       "      <td>224.807784</td>\n",
       "    </tr>\n",
       "    <tr>\n",
       "      <th>679</th>\n",
       "      <td>13-Sep-18</td>\n",
       "      <td>224.312747</td>\n",
       "    </tr>\n",
       "    <tr>\n",
       "      <th>680</th>\n",
       "      <td>14-Sep-18</td>\n",
       "      <td>225.803518</td>\n",
       "    </tr>\n",
       "    <tr>\n",
       "      <th>681</th>\n",
       "      <td>17-Sep-18</td>\n",
       "      <td>225.918260</td>\n",
       "    </tr>\n",
       "    <tr>\n",
       "      <th>682</th>\n",
       "      <td>18-Sep-18</td>\n",
       "      <td>223.791370</td>\n",
       "    </tr>\n",
       "    <tr>\n",
       "      <th>...</th>\n",
       "      <td>...</td>\n",
       "      <td>...</td>\n",
       "    </tr>\n",
       "    <tr>\n",
       "      <th>873</th>\n",
       "      <td>24-Jun-19</td>\n",
       "      <td>196.992658</td>\n",
       "    </tr>\n",
       "    <tr>\n",
       "      <th>874</th>\n",
       "      <td>25-Jun-19</td>\n",
       "      <td>197.311029</td>\n",
       "    </tr>\n",
       "    <tr>\n",
       "      <th>875</th>\n",
       "      <td>26-Jun-19</td>\n",
       "      <td>196.562120</td>\n",
       "    </tr>\n",
       "    <tr>\n",
       "      <th>876</th>\n",
       "      <td>27-Jun-19</td>\n",
       "      <td>197.454737</td>\n",
       "    </tr>\n",
       "    <tr>\n",
       "      <th>877</th>\n",
       "      <td>28-Jun-19</td>\n",
       "      <td>198.057816</td>\n",
       "    </tr>\n",
       "  </tbody>\n",
       "</table>\n",
       "<p>200 rows × 2 columns</p>\n",
       "</div>"
      ],
      "text/plain": [
       "          Date  Predict_MACD\n",
       "678  12-Sep-18    224.807784\n",
       "679  13-Sep-18    224.312747\n",
       "680  14-Sep-18    225.803518\n",
       "681  17-Sep-18    225.918260\n",
       "682  18-Sep-18    223.791370\n",
       "..         ...           ...\n",
       "873  24-Jun-19    196.992658\n",
       "874  25-Jun-19    197.311029\n",
       "875  26-Jun-19    196.562120\n",
       "876  27-Jun-19    197.454737\n",
       "877  28-Jun-19    198.057816\n",
       "\n",
       "[200 rows x 2 columns]"
      ]
     },
     "execution_count": 12,
     "metadata": {},
     "output_type": "execute_result"
    }
   ],
   "source": [
    "MACD_predict"
   ]
  },
  {
   "cell_type": "code",
   "execution_count": 13,
   "metadata": {},
   "outputs": [],
   "source": [
    "MACD_predict.to_csv('MACD_prediction.csv')"
   ]
  },
  {
   "cell_type": "code",
   "execution_count": null,
   "metadata": {},
   "outputs": [],
   "source": []
  }
 ],
 "metadata": {
  "kernelspec": {
   "display_name": "Python 3",
   "language": "python",
   "name": "python3"
  },
  "language_info": {
   "codemirror_mode": {
    "name": "ipython",
    "version": 3
   },
   "file_extension": ".py",
   "mimetype": "text/x-python",
   "name": "python",
   "nbconvert_exporter": "python",
   "pygments_lexer": "ipython3",
   "version": "3.7.5"
  }
 },
 "nbformat": 4,
 "nbformat_minor": 2
}
